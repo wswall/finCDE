{
 "cells": [
  {
   "cell_type": "code",
   "execution_count": null,
   "id": "5d2c9aee-d95f-4b9e-abbf-2cadab2ee821",
   "metadata": {},
   "outputs": [],
   "source": [
    "import os\n",
    "os.environ[\"TF_USE_LEGACY_KERAS\"] = \"1\"\n",
    "\n",
    "from collections import defaultdict\n",
    "from functools import partial\n",
    "import json\n",
    "from pathlib import Path\n",
    "\n",
    "import keras_tuner\n",
    "import numpy as np\n",
    "import pandas as pd\n",
    "from scipy.integrate import tanhsinh\n",
    "import tf_keras as keras\n",
    "\n",
    "from density_estimation.models.nn import build_model\n",
    "from density_estimation.common import get_data"
   ]
  },
  {
   "cell_type": "code",
   "execution_count": null,
   "id": "045bb792-cd07-4082-a070-5d876a776560",
   "metadata": {},
   "outputs": [],
   "source": [
    "def make_qscore(conditional_dist):\n",
    "    d = conditional_dist\n",
    "    def qscore(a, y):\n",
    "        q = d.quantile(a).numpy().flatten()[0]\n",
    "        return ((y <= q) - a) * (q - y)\n",
    "    return qscore"
   ]
  },
  {
   "cell_type": "code",
   "execution_count": null,
   "id": "f0e0119c-252e-4983-97e2-3d6f9b6ddf90",
   "metadata": {},
   "outputs": [],
   "source": [
    "early_stop = keras.callbacks.EarlyStopping(patience=10, monitor='val_loss', restore_best_weights=True)\n",
    "distributions = ['normal', 't', 'laplace', 'skewnorm', 'skewt', 'jsu']"
   ]
  },
  {
   "cell_type": "code",
   "execution_count": null,
   "id": "f831a8e9-85e1-4ea2-8177-8f61b39b6721",
   "metadata": {},
   "outputs": [],
   "source": [
    "test_bound = 4600\n",
    "val_bound = 4600 // 10 * 8\n",
    "results = []\n",
    "best_hp = defaultdict(dict)\n",
    "\n",
    "for csv_path in Path('data/TAQ').iterdir():\n",
    "    company = csv_path.stem.split('_')[0]\n",
    "    data = get_data(csv_path)\n",
    "    x_train, y_train = data[:val_bound, 1:], data[:val_bound, 0]\n",
    "    x_val, y_val = data[val_bound: test_bound, 1:], data[val_bound: test_bound, 0]\n",
    "    x_test, y_test = data[test_bound:, 1:], data[test_bound:, 0]\n",
    "    for dist in distributions:\n",
    "        hypermodel = partial(build_model, dist_name=dist)\n",
    "        tuner = keras_tuner.RandomSearch(\n",
    "            hypermodel=hypermodel,\n",
    "            objective=keras_tuner.Objective(\"val_loss\", \"min\"),\n",
    "            max_trials=10,\n",
    "            overwrite=True,\n",
    "            directory=f\"./trials\",\n",
    "        )\n",
    "        tuner.search(\n",
    "          x_train, y_train,\n",
    "          validation_data=(x_val, y_val),\n",
    "          epochs=30,\n",
    "          callbacks=[early_stop]\n",
    "        )\n",
    "        best_model = tuner.get_best_models()[0]\n",
    "        l_score = best_model.evaluate(x_test, y_test)\n",
    "        crps = []\n",
    "        for i in range(len(x_test)):\n",
    "            y_hat = best_model(x_test[i].reshape(1,3))\n",
    "            crps_res = tanhsinh(\n",
    "              make_qscore(y_hat), \n",
    "              np.zeros(1), \n",
    "              np.ones(1), \n",
    "              args=(y_test[i])\n",
    "            )\n",
    "            crps.append(crps_res.integral)\n",
    "\n",
    "        results.append([company, dist, l_score, np.mean(crps)])\n",
    "        best_hp[company][dist] = tuner.get_best_hyperparameters()[0].values"
   ]
  },
  {
   "cell_type": "code",
   "execution_count": null,
   "id": "555c7360-95b4-4ca5-a281-8998899a7fd0",
   "metadata": {},
   "outputs": [],
   "source": [
    "df = pd.DataFrame(results, columns=['company', 'distribution', 'l_score', 'crps'])\n",
    "df.to_csv('results/eval_ddnn.csv', index=False)\n",
    "with open('nn_model_hp.json', 'w') as jfile:\n",
    "    json.dump(best_hp, jfile, indent=4)"
   ]
  },
  {
   "cell_type": "code",
   "execution_count": null,
   "id": "aa60cab7-7dc6-48f9-854e-5eb291243d97",
   "metadata": {},
   "outputs": [],
   "source": []
  }
 ],
 "metadata": {
  "kernelspec": {
   "display_name": "Python 3 (ipykernel)",
   "language": "python",
   "name": "python3"
  },
  "language_info": {
   "codemirror_mode": {
    "name": "ipython",
    "version": 3
   },
   "file_extension": ".py",
   "mimetype": "text/x-python",
   "name": "python",
   "nbconvert_exporter": "python",
   "pygments_lexer": "ipython3",
   "version": "3.11.0rc1"
  }
 },
 "nbformat": 4,
 "nbformat_minor": 5
}
