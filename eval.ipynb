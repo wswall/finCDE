{
 "cells": [
  {
   "cell_type": "code",
   "execution_count": 4,
   "id": "81a25a91-7f5b-428c-86ed-43ec0935a507",
   "metadata": {},
   "outputs": [],
   "source": [
    "from pathlib import Path\n",
    "\n",
    "from numba import njit, f8\n",
    "import numpy as np\n",
    "import pandas as pd\n",
    "from scipy.optimize import Bounds, minimize\n",
    "\n",
    "from density_estimation.dist import (\n",
    "    Normal, \n",
    "    StudentT,\n",
    "    Laplace,\n",
    "    CondSNorm, \n",
    "    CondST,\n",
    "    CondSLap,\n",
    "    CondJsu\n",
    ")\n",
    "from density_estimation.models.simple import ArGarch\n",
    "from density_estimation.common import sumjit, get_data, kurtosis\n",
    "from density_estimation.har import har_fitness, calc_har"
   ]
  },
  {
   "cell_type": "code",
   "execution_count": 4,
   "id": "291cbe30-9c65-46fc-8f55-9029d3374c0d",
   "metadata": {},
   "outputs": [],
   "source": [
    "def eval_garch(model, log_returns):\n",
    "    forecast = model(log_returns)\n",
    "    sigma = np.sqrt(forecast[:, 1])\n",
    "    lprob = model.error_dist.llh(forecast[:, 0] / sigma) - sumjit(np.log(sigma))\n",
    "    crp_scores = model.error_dist.crps(log_returns, forecast[:, 0], sigma)\n",
    "    return -lprob / len(data), np.mean(crp_scores)\n",
    "\n",
    "def eval_har(params, dist_cls, data):\n",
    "    log_returns, rv_dmw = data[:,0], data[:, 1:]\n",
    "    sigma = forecast_rv_d(rv_dmw, params[:4])\n",
    "    error_dist = dist_cls(*params[4:])\n",
    "    lprob = error_dist.llh(log_returns / sigma) - sumjit(np.log(sigma))\n",
    "    crp_scores = error_dist.crps(log_returns, np.zeros(log_returns.size), sigma)\n",
    "    return -lprob / len(data), np.mean(crp_scores)"
   ]
  },
  {
   "cell_type": "code",
   "execution_count": 5,
   "id": "89ae6cc3-0fb9-481c-815c-de4189b0d4fe",
   "metadata": {},
   "outputs": [],
   "source": [
    "distributions = {\n",
    "    'normal':{'cls': Normal, 'shape_guess': []}, \n",
    "    't':{'cls': StudentT, 'shape_guess': []},\n",
    "    'laplace':{'cls': Laplace, 'shape_guess': []},\n",
    "    'skewnorm':{'cls': CondSNorm, 'shape_guess':[1.0]}, \n",
    "    'skewt':{'cls': CondST, 'shape_guess':[]},\n",
    "    'skewlap':{'cls': CondSLap, 'shape_guess':[1.0]},\n",
    "    'jsu':{'cls': CondJsu, 'shape_guess':[0.0, 1.0]}\n",
    "}"
   ]
  },
  {
   "cell_type": "code",
   "execution_count": 6,
   "id": "ec187ae7-a17f-4a3c-9ba6-8141f19b96b2",
   "metadata": {
    "collapsed": true,
    "jupyter": {
     "outputs_hidden": true
    }
   },
   "outputs": [
    {
     "name": "stderr",
     "output_type": "stream",
     "text": [
      "/home/wswall/ParDen/models/simple.py:80: RuntimeWarning: invalid value encountered in sqrt\n",
      "  sigma = np.sqrt(fit_data[:, 1])\n"
     ]
    },
    {
     "name": "stdout",
     "output_type": "stream",
     "text": [
      "GARCH laplace for jpm failed with Singular matrix E in LSQ subproblem\n",
      "GARCH skewlap for jpm failed with Singular matrix E in LSQ subproblem\n"
     ]
    },
    {
     "name": "stderr",
     "output_type": "stream",
     "text": [
      "/home/wswall/ParDen/models/simple.py:80: RuntimeWarning: invalid value encountered in sqrt\n",
      "  sigma = np.sqrt(fit_data[:, 1])\n"
     ]
    },
    {
     "name": "stdout",
     "output_type": "stream",
     "text": [
      "GARCH skewt for ge failed with Singular matrix E in LSQ subproblem\n"
     ]
    },
    {
     "name": "stderr",
     "output_type": "stream",
     "text": [
      "/home/wswall/ParDen/dist.py:229: RuntimeWarning: divide by zero encountered in log\n",
      "  Z = self.params['skew'] + self.params['tailweight'] * np.log(z + np.sqrt(z ** 2 + 1))\n",
      "/home/wswall/ParDen/dist.py:242: RuntimeWarning: divide by zero encountered in log\n",
      "  return sumjit(np.log(self.pdf(z_std)))\n"
     ]
    },
    {
     "name": "stdout",
     "output_type": "stream",
     "text": [
      "CPU times: user 16min 22s, sys: 1min 7s, total: 17min 29s\n",
      "Wall time: 17min 29s\n"
     ]
    }
   ],
   "source": [
    "# Calculating the CRPS is currently a huge bottleneck, removing CRPS from eval \n",
    "# function reduces total time from ~20 miutes to ~5 seconds.\n",
    "\n",
    "results = []\n",
    "for csv_path in Path('data/TAQ').iterdir():\n",
    "    company = csv_path.stem.split('_')[0]\n",
    "    data = get_data(csv_path)\n",
    "    sample_T = data.shape[0] // 10 * 8\n",
    "    sample, oos = data[: sample_T], data[sample_T: ]\n",
    "\n",
    "    # calc values for initial guesses\n",
    "    lr_mean, drv_mean = sample[:, :2].mean(axis=0)\n",
    "    lr_var = sample[:, 0].var(ddof=1)\n",
    "    lr_kurt = kurtosis(sample[:, 0], lr_mean, lr_var)\n",
    "    distributions['t']['shape_guess'] = [lr_kurt]\n",
    "    distributions['skewt']['shape_guess'] = [1.0, lr_kurt]\n",
    "    \n",
    "    for distribution, ddict in distributions.items():\n",
    "        dist = ddict['cls']\n",
    "\n",
    "        initial = np.array([lr_mean, 0.0, lr_var, 0.05, 0.9, *ddict['shape_guess']], dtype=np.float64)\n",
    "        argarch_model = ArGarch(dist)\n",
    "        res = argarch_model.fit(sample[:, 0], initial, display=False, maxiter=300)\n",
    "        if res.success:\n",
    "            lsr, crps = eval_garch(argarch_model, oos[:, 0])\n",
    "            results.append([company, 'garch', dist.name, 5 + dist.n_params, res.fun, lsr, crps])\n",
    "        else:\n",
    "            print(f'GARCH {dist.name} for {company} failed with {res.message}')\n",
    "            results.append([company, 'garch', dist.name, 5 + dist.n_params, np.nan, np.nan, np.nan])\n",
    "\n",
    "        initial = np.array([drv_mean, 0.3, 0.3, 0.3, *ddict['shape_guess']])\n",
    "        har_bounds = Bounds(\n",
    "            lb=np.array([1e-8, 0., 0., 0., *dist.bounds.lb]),\n",
    "            ub=np.array([np.inf, np.inf, np.inf, np.inf, *dist.bounds.ub])\n",
    "        )\n",
    "        res = minimize(\n",
    "            har_fitness, initial,\n",
    "            args=(sample, dist),\n",
    "            bounds=har_bounds,\n",
    "            constraints=[{'type': 'ineq', 'fun': lambda x: sum(x[1:4])}],\n",
    "            method='SLSQP',\n",
    "            options={\"disp\": False}\n",
    "        )\n",
    "        if res.success:\n",
    "            lsr, crps = eval_har(res.x, dist, oos)\n",
    "            results.append([company, 'har', dist.name, 4 + dist.n_params, res.fun, lsr, crps])\n",
    "        else:\n",
    "            print(f'HAR {dist.name} for {company} failed with {res.message}')\n",
    "            results.append([company, 'har', dist.name, 4 + dist.n_params, np.nan, np.nan, np.nan])"
   ]
  },
  {
   "cell_type": "code",
   "execution_count": null,
   "id": "29a1648c-cde5-4dda-89f9-8b398f8a6ff0",
   "metadata": {},
   "outputs": [],
   "source": [
    "cols = ['company', 'model_type', 'distribution', 'k', 'llh', 'lsr', 'crps']\n",
    "score_df = pd.DataFrame(results, columns=cols)\n",
    "\n",
    "score_df['llh'] = -score_df.llh * 1e5\n",
    "score_df['aic'] = (2 * score_df.k - 2 * score_df.llh) / sample_T\n",
    "score_df['bic'] = (np.log(sample_T) * score_df.k - 2 * score_df.llh) / sample_T\n",
    "score_df['crps'] = score_df.crps * 1e3\n",
    "score_df.rename(columns={'crps': 'crps_x1e3'}, inplace=True)\n",
    "float_cols = score_df.select_dtypes(include=float).columns\n",
    "score_df[float_cols] = score_df[float_cols].round(3)\n",
    "\n",
    "write_order = ['company', 'model_type', 'distribution', 'k', 'llh', 'aic', 'bic', 'lsr', 'crps_x1e3']\n",
    "score_df[write_order].to_csv('results/eval_results.csv', index=False)"
   ]
  },
  {
   "cell_type": "code",
   "execution_count": null,
   "id": "70b19fcf-b1b5-4952-941a-1c0316b82535",
   "metadata": {},
   "outputs": [],
   "source": []
  },
  {
   "cell_type": "code",
   "execution_count": 40,
   "id": "dad9cbce-e1e7-4e7a-86e4-3c8957488546",
   "metadata": {},
   "outputs": [
    {
     "name": "stdout",
     "output_type": "stream",
     "text": [
      "19.3 ms ± 3.73 ms per loop (mean ± std. dev. of 7 runs, 10 loops each)\n"
     ]
    }
   ],
   "source": [
    "data = get_data('data/ibm_300_cts.csv')"
   ]
  },
  {
   "cell_type": "code",
   "execution_count": 49,
   "id": "73fa1602-17f7-4aa5-b7a9-41e1a57ad925",
   "metadata": {},
   "outputs": [],
   "source": [
    "sample = data[:1367]\n",
    "daily_rv = sample[:, 1]"
   ]
  },
  {
   "cell_type": "code",
   "execution_count": 54,
   "id": "6fb1a045-9937-4831-826b-2733391931c6",
   "metadata": {},
   "outputs": [
    {
     "name": "stdout",
     "output_type": "stream",
     "text": [
      "Optimization terminated successfully    (Exit mode 0)\n",
      "            Current function value: -0.04135557330124296\n",
      "            Iterations: 11\n",
      "            Function evaluations: 57\n",
      "            Gradient evaluations: 11\n"
     ]
    }
   ],
   "source": [
    "res = minimize(\n",
    "    har_fitness, \n",
    "    np.array([daily_rv.mean(), 0.3, 0.3, 0.3]), \n",
    "    args=(sample, Normal),\n",
    "    bounds=Bounds(\n",
    "        lb=np.array([1e-8, 0., 0., 0.]),\n",
    "        ub=np.array([np.inf, np.inf, np.inf, np.inf])\n",
    "    ),\n",
    "    constraints=[{'type': 'ineq', 'fun': lambda x: sum(x[1:4])}],\n",
    "    method='SLSQP',\n",
    "    options={\"disp\": True}\n",
    ")"
   ]
  },
  {
   "cell_type": "code",
   "execution_count": 55,
   "id": "f940e284-56dd-47ef-9bbd-bf92f493493a",
   "metadata": {},
   "outputs": [
    {
     "data": {
      "text/plain": [
       "array([1.00000000e-08, 3.36964675e-01, 3.45623285e-01, 3.38158938e-01])"
      ]
     },
     "execution_count": 55,
     "metadata": {},
     "output_type": "execute_result"
    }
   ],
   "source": [
    "res.x"
   ]
  },
  {
   "cell_type": "code",
   "execution_count": null,
   "id": "434a8817-4f3f-40b2-9b13-424caef0ae80",
   "metadata": {},
   "outputs": [],
   "source": [
    "ArGarch(Normal).fit(\n",
    "    lr, \n",
    "    np.array([lr.mean(), 0.0, lr.var(), 0.05, 0.9]), \n",
    "    display=False\n",
    ")"
   ]
  },
  {
   "cell_type": "code",
   "execution_count": 41,
   "id": "45354281-2292-4d26-a8f3-0dcf530bb23c",
   "metadata": {},
   "outputs": [],
   "source": [
    "data = get_data('data/ibm_300_cts.csv')\n",
    "sample_T = data.shape[0] // 10 * 8\n",
    "sample, oos = data[: sample_T], data[sample_T: ]\n",
    "lr = data[:,0]\n",
    "lr_mean, drv_mean = sample[:, :2].mean(axis=0)\n",
    "lr_var = sample[:, 0].var(ddof=1)\n",
    "lr_kurt = kurtosis(sample[:, 0], lr_mean, lr_var)\n",
    "initial = np.array([data[:, 1].mean(), 0.3, 0.3, 0.3, 1.0, lr_kurt])\n",
    "dist = CondST\n",
    "bounds = Bounds(\n",
    "    lb=np.array([1e-8, 0., 0., 0., *dist.bounds.lb]),\n",
    "    ub=np.array([np.inf, np.inf, np.inf, np.inf, *dist.bounds.ub])\n",
    "    )\n",
    "constraints = [{'type': 'ineq', 'fun': lambda x: sum(x[1:4])}]"
   ]
  },
  {
   "cell_type": "code",
   "execution_count": null,
   "id": "2d17d1d5-29e0-4c5f-8e0f-7fe9a46afd19",
   "metadata": {},
   "outputs": [],
   "source": []
  }
 ],
 "metadata": {
  "kernelspec": {
   "display_name": "Python 3 (ipykernel)",
   "language": "python",
   "name": "python3"
  },
  "language_info": {
   "codemirror_mode": {
    "name": "ipython",
    "version": 3
   },
   "file_extension": ".py",
   "mimetype": "text/x-python",
   "name": "python",
   "nbconvert_exporter": "python",
   "pygments_lexer": "ipython3",
   "version": "3.11.0rc1"
  }
 },
 "nbformat": 4,
 "nbformat_minor": 5
}
